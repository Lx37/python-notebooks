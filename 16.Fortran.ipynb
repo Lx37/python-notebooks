{
 "cells": [
  {
   "cell_type": "markdown",
   "metadata": {
    "collapsed": true,
    "slideshow": {
     "slide_type": "slide"
    }
   },
   "source": [
    "Pierre Navaro - [Institut de Recherche Mathématique de Rennes](https://irmar.univ-rennes1.fr) - [CNRS](http://www.cnrs.fr/)"
   ]
  },
  {
   "cell_type": "code",
   "execution_count": null,
   "metadata": {
    "slideshow": {
     "slide_type": "slide"
    }
   },
   "outputs": [],
   "source": [
    "%matplotlib inline\n",
    "%config InlineBackend.figure_format = 'retina'\n",
    "import matplotlib.pyplot as plt\n",
    "import scipy.fftpack as sf\n",
    "import scipy.linalg as sl\n",
    "import numpy as np"
   ]
  },
  {
   "cell_type": "code",
   "execution_count": null,
   "metadata": {
    "slideshow": {
     "slide_type": "fragment"
    }
   },
   "outputs": [],
   "source": [
    "%env CC=gcc-7"
   ]
  },
  {
   "cell_type": "markdown",
   "metadata": {
    "slideshow": {
     "slide_type": "slide"
    }
   },
   "source": [
    "# f2py\n",
    "f2py is a part of Numpy and there are three ways to wrap Fortran with Python :\n",
    "- Write some fortran subroutines and just run f2py to create Python modules.\n",
    "- Insert special f2py directives inside Fortran source for complex wrapping.\n",
    "- Write a interface file (.pyf) to wrap Fortran files without changing them. f2py automatically generate the pyf template file that can be modified. "
   ]
  },
  {
   "cell_type": "markdown",
   "metadata": {
    "slideshow": {
     "slide_type": "slide"
    }
   },
   "source": [
    "# Simple Fortran subroutine to compute norm\n",
    "   \n",
    "### Fortran 90/95 free format"
   ]
  },
  {
   "cell_type": "code",
   "execution_count": null,
   "metadata": {
    "slideshow": {
     "slide_type": "fragment"
    }
   },
   "outputs": [],
   "source": [
    "%%file euclidian_norm.f90\n",
    "subroutine euclidian_norm (a, b, c)\n",
    "  real(8), intent(in) :: a, b\n",
    "  real(8), intent(out) :: c \n",
    "  c =\tsqrt (a*a+b*b) \n",
    "end subroutine euclidian_norm"
   ]
  },
  {
   "cell_type": "markdown",
   "metadata": {
    "slideshow": {
     "slide_type": "slide"
    }
   },
   "source": [
    "### Fortran 77 fixed format"
   ]
  },
  {
   "cell_type": "code",
   "execution_count": null,
   "metadata": {
    "slideshow": {
     "slide_type": "fragment"
    }
   },
   "outputs": [],
   "source": [
    "%%file euclidian_norm.f\n",
    "      subroutine euclidian_norm (a, b, c)\n",
    "      real*8 a,b,c\n",
    "Cf2py intent(out) c\n",
    "      c = sqrt (a*a+b*b) \n",
    "      end "
   ]
  },
  {
   "cell_type": "markdown",
   "metadata": {
    "slideshow": {
     "slide_type": "slide"
    }
   },
   "source": [
    "# Build extension module with f2py program\n"
   ]
  },
  {
   "cell_type": "code",
   "execution_count": null,
   "metadata": {
    "slideshow": {
     "slide_type": "fragment"
    }
   },
   "outputs": [],
   "source": [
    "!f2py -c euclidian_norm.f90 -m vect  --fcompiler=gnu95 --f90flags=-O3"
   ]
  },
  {
   "cell_type": "markdown",
   "metadata": {
    "slideshow": {
     "slide_type": "slide"
    }
   },
   "source": [
    "## Use the extension module in Python"
   ]
  },
  {
   "cell_type": "code",
   "execution_count": null,
   "metadata": {
    "slideshow": {
     "slide_type": "fragment"
    }
   },
   "outputs": [],
   "source": [
    "import vect\n",
    "c = vect.euclidian_norm(3,4)\n",
    "c"
   ]
  },
  {
   "cell_type": "code",
   "execution_count": null,
   "metadata": {
    "slideshow": {
     "slide_type": "fragment"
    }
   },
   "outputs": [],
   "source": [
    "print(vect.euclidian_norm.__doc__) # Docstring is automatically generate"
   ]
  },
  {
   "cell_type": "markdown",
   "metadata": {
    "slideshow": {
     "slide_type": "slide"
    }
   },
   "source": [
    "# Fortran magic \n",
    "\n",
    "- Jupyter extension that help to use fortran code in an interactive session.\n",
    "- It adds a %%fortran cell magic that compile and import the Fortran code in the cell, using F2py.\n",
    "- The contents of the cell are written to a .f90 file in the directory IPYTHONDIR/fortran using a filename with the hash of the code. This file is then compiled. The resulting module is imported and all of its symbols are injected into the user's namespace.\n",
    "\n",
    "[Documentation](http://nbviewer.jupyter.org/github/mgaitan/fortran_magic/blob/master/documentation.ipynb)"
   ]
  },
  {
   "cell_type": "code",
   "execution_count": null,
   "metadata": {
    "slideshow": {
     "slide_type": "fragment"
    }
   },
   "outputs": [],
   "source": [
    "%load_ext fortranmagic"
   ]
  },
  {
   "cell_type": "markdown",
   "metadata": {
    "slideshow": {
     "slide_type": "slide"
    }
   },
   "source": [
    "# F2py directives\n",
    "- F2PY introduces also some extensions to Fortran 90/95 language specification that help designing Fortran to Python interface, make it more “Pythonic”.\n",
    "- If editing Fortran codes is acceptable, these specific attributes can be inserted directly to Fortran source codes. Special comment lines are ignored by Fortran compilers but F2PY interprets them as normal lines.\n",
    "\n"
   ]
  },
  {
   "cell_type": "code",
   "execution_count": null,
   "metadata": {
    "slideshow": {
     "slide_type": "fragment"
    }
   },
   "outputs": [],
   "source": [
    "%%fortran \n",
    "subroutine euclidian_norm(a,c,n) \n",
    "  integer :: n \n",
    "  real(8),dimension(n),intent(in) :: a\n",
    "  !f2py optional , depend(a) :: n=len(a)\n",
    "  real(8),intent(out) :: c \n",
    "  real(8) :: sommec \n",
    "  integer :: i\n",
    "  sommec = 0 \n",
    "  do i=1,n\n",
    "    sommec=sommec+a( i )*a( i ) \n",
    "  end do\n",
    "  c = sqrt (sommec) \n",
    "end subroutine euclidian_norm"
   ]
  },
  {
   "cell_type": "code",
   "execution_count": null,
   "metadata": {
    "slideshow": {
     "slide_type": "slide"
    }
   },
   "outputs": [],
   "source": [
    "a=[2,3,4]  # Python list\n",
    "type(a)"
   ]
  },
  {
   "cell_type": "code",
   "execution_count": null,
   "metadata": {
    "slideshow": {
     "slide_type": "fragment"
    }
   },
   "outputs": [],
   "source": [
    "euclidian_norm(a)"
   ]
  },
  {
   "cell_type": "code",
   "execution_count": null,
   "metadata": {
    "slideshow": {
     "slide_type": "fragment"
    }
   },
   "outputs": [],
   "source": [
    "a=np.arange(2,5)  # numpy array\n",
    "type(a)"
   ]
  },
  {
   "cell_type": "code",
   "execution_count": null,
   "metadata": {
    "slideshow": {
     "slide_type": "fragment"
    }
   },
   "outputs": [],
   "source": [
    "euclidian_norm(a)"
   ]
  },
  {
   "cell_type": "code",
   "execution_count": null,
   "metadata": {
    "slideshow": {
     "slide_type": "slide"
    }
   },
   "outputs": [],
   "source": [
    "print(euclidian_norm.__doc__) # Documentation"
   ]
  },
  {
   "cell_type": "markdown",
   "metadata": {
    "slideshow": {
     "slide_type": "slide"
    }
   },
   "source": [
    "# F2py directives\n",
    "- `optional`: The corresponding argument is moved to the end.\n",
    "- `required`: This is default. Use it to disable automatic optional setting.\n",
    "- `intent(in | inout | out | hide)` , `intent(in)` is the default.\n",
    "- `intent(out)` is implicitly translated to `intent(out,hide) `.\n",
    "- `intent(copy)` and `intent(overwrite)` control changes for input arguments.\n",
    "- `check` performs some assertions, it is often automatically generated.\n",
    "- `depend`:  f2py detects cyclic dependencies.\n",
    "- `allocatable, parameter`\n",
    "- `intent(callback), external`: for function as arguments.\n",
    "- `intent(c)` C-type argument , array or function.\n",
    "- C expressions: `rank, shape, len, size, slen`.\n"
   ]
  },
  {
   "cell_type": "markdown",
   "metadata": {
    "slideshow": {
     "slide_type": "slide"
    }
   },
   "source": [
    "# Callback\n",
    "\n",
    "You can call a python function inside your fortran code\n"
   ]
  },
  {
   "cell_type": "code",
   "execution_count": null,
   "metadata": {
    "slideshow": {
     "slide_type": "fragment"
    }
   },
   "outputs": [],
   "source": [
    "%%fortran\n",
    "subroutine sum_f (f ,n, s) \n",
    "  !Compute sum(f(i), i=1,n) \n",
    "  external f \n",
    "  integer, intent(in) :: n \n",
    "  real, intent(out) :: s\n",
    "  s = 0.0 \n",
    "  do i=1,n\n",
    "    s=s+f(i)\n",
    "  end do \n",
    "end subroutine sum_f"
   ]
  },
  {
   "cell_type": "code",
   "execution_count": null,
   "metadata": {
    "slideshow": {
     "slide_type": "slide"
    }
   },
   "outputs": [],
   "source": [
    "def fonction(i) : # python function\n",
    "    return i*i\n",
    "\n",
    "sum_f(fonction,3) "
   ]
  },
  {
   "cell_type": "code",
   "execution_count": null,
   "metadata": {
    "slideshow": {
     "slide_type": "fragment"
    }
   },
   "outputs": [],
   "source": [
    "sum_f(lambda x :x**2,3) # lambda function"
   ]
  },
  {
   "cell_type": "markdown",
   "metadata": {
    "slideshow": {
     "slide_type": "slide"
    }
   },
   "source": [
    "# Fortran arrays and Numpy arrays\n",
    "\n",
    "Let's see how to pass numpy arrays to fortran subroutine.\n"
   ]
  },
  {
   "cell_type": "code",
   "execution_count": null,
   "metadata": {
    "slideshow": {
     "slide_type": "fragment"
    }
   },
   "outputs": [],
   "source": [
    "%%fortran --extra \"-DF2PY_REPORT_ON_ARRAY_COPY=1\"\n",
    "subroutine push( positions, velocities, dt, n)\n",
    "  integer, intent(in) :: n\n",
    "  real(8), intent(in) :: dt\n",
    "  real(8), dimension(n,3), intent(in) :: velocities\n",
    "  real(8), dimension(n,3) :: positions\n",
    "  do i = 1, n\n",
    "    positions(i,:) = positions(i,:) + dt*velocities(i,:)\n",
    "  end do\n",
    "end subroutine push"
   ]
  },
  {
   "cell_type": "code",
   "execution_count": null,
   "metadata": {
    "slideshow": {
     "slide_type": "fragment"
    }
   },
   "outputs": [],
   "source": [
    "positions = [[0, 0, 0], [0, 0, 0], [0, 0, 0]]\n",
    "velocities = [[0, 1, 2], [0, 3, 2], [0, 1, 3]]"
   ]
  },
  {
   "cell_type": "code",
   "execution_count": null,
   "metadata": {
    "slideshow": {
     "slide_type": "fragment"
    }
   },
   "outputs": [],
   "source": [
    "import sys\n",
    "push(positions, velocities, 0.1)\n",
    "sys.__stdout__.write(\"coucou\")\n",
    "positions # memory is not updated because we used C memory storage"
   ]
  },
  {
   "cell_type": "markdown",
   "metadata": {
    "slideshow": {
     "slide_type": "slide"
    }
   },
   "source": [
    "During execution, the message \"created an array from object\" is displayed, because a copy of is made when passing multidimensional array to fortran subroutine."
   ]
  },
  {
   "cell_type": "code",
   "execution_count": null,
   "metadata": {
    "slideshow": {
     "slide_type": "fragment"
    }
   },
   "outputs": [],
   "source": [
    "positions = np.array(positions, dtype='f8', order='F')\n",
    "push(positions, velocities, 0.1)\n",
    "positions # the memory is updated"
   ]
  },
  {
   "cell_type": "markdown",
   "metadata": {
    "slideshow": {
     "slide_type": "slide"
    }
   },
   "source": [
    "# Signature file\n",
    "\n",
    "This file contains descriptions of wrappers to Fortran or C functions, also called as signatures of the functions. F2PY can create initial signature file by scanning Fortran source codes and catching all relevant information needed to create wrapper functions.\n",
    "\n",
    "```bash\n",
    "f2py vector.f90 -h vector.pyf\n",
    "```\n",
    "- vector.pyf\n",
    "\n",
    "```fortran\n",
    "!    -*- f90 -*-\n",
    "! Note: the context of this file is case sensitive.\n",
    "\n",
    "subroutine euclidian_norm(a,c,n) ! in vector.f90\n",
    "    real(kind=8) dimension(n),intent(in) :: a\n",
    "    real(kind=8) intent(out) :: c\n",
    "    integer optional,check(len(a)>=n),depend(a) :: n=len(a)\n",
    "end subroutine euclidian_norm\n",
    "\n",
    "! This file was auto-generated with f2py (version:2).\n",
    "! See http://cens.ioc.ee/projects/f2py2e/\n",
    "```\n"
   ]
  },
  {
   "cell_type": "markdown",
   "metadata": {
    "slideshow": {
     "slide_type": "slide"
    }
   },
   "source": [
    "# Wrap lapack function dgemm  with f2py\n",
    "\n",
    "- Generate the signature file"
   ]
  },
  {
   "cell_type": "code",
   "execution_count": null,
   "metadata": {
    "slideshow": {
     "slide_type": "fragment"
    }
   },
   "outputs": [],
   "source": [
    "%rm -f dgemm.f dgemm.pyf\n",
    "!wget http://ftp.mcs.anl.gov/pub/MINPACK-2/blas/dgemm.f"
   ]
  },
  {
   "cell_type": "code",
   "execution_count": null,
   "metadata": {
    "slideshow": {
     "slide_type": "slide"
    }
   },
   "outputs": [],
   "source": [
    "# %load dgemm.f"
   ]
  },
  {
   "cell_type": "code",
   "execution_count": null,
   "metadata": {
    "slideshow": {
     "slide_type": "fragment"
    }
   },
   "outputs": [],
   "source": [
    "!f2py -m mylapack --overwrite-signature -h dgemm.pyf dgemm.f"
   ]
  },
  {
   "cell_type": "markdown",
   "metadata": {
    "slideshow": {
     "slide_type": "slide"
    }
   },
   "source": [
    "```fortran\n",
    "!    -*- f90 -*-\n",
    "! Note: the context of this file is case sensitive.\n",
    "\n",
    "python module mylapack ! in \n",
    "    interface  ! in :mylapack\n",
    "        subroutine dgemm(transa,transb,m,n,k,alpha,a,lda,b,ldb,beta,c,ldc) ! in :mylapack:dgemm.f\n",
    "            character*1 :: transa\n",
    "            character*1 :: transb\n",
    "            integer :: m\n",
    "            integer :: n\n",
    "            integer :: k\n",
    "            double precision :: alpha\n",
    "            double precision dimension(lda,*) :: a\n",
    "            integer, optional,check(shape(a,0)==lda),depend(a) :: lda=shape(a,0)\n",
    "            double precision dimension(ldb,*) :: b\n",
    "            integer, optional,check(shape(b,0)==ldb),depend(b) :: ldb=shape(b,0)\n",
    "            double precision :: beta\n",
    "            double precision dimension(ldc,*) :: c\n",
    "            integer, optional,check(shape(c,0)==ldc),depend(c) :: ldc=shape(c,0)\n",
    "        end subroutine dgemm\n",
    "    end interface \n",
    "end python module mylapack\n",
    "\n",
    "! This file was auto-generated with f2py (version:2).\n",
    "! See http://cens.ioc.ee/projects/f2py2e/\n",
    "```"
   ]
  },
  {
   "cell_type": "code",
   "execution_count": null,
   "metadata": {
    "slideshow": {
     "slide_type": "slide"
    }
   },
   "outputs": [],
   "source": [
    "!f2py -c dgemm.pyf -llapack"
   ]
  },
  {
   "cell_type": "code",
   "execution_count": null,
   "metadata": {
    "slideshow": {
     "slide_type": "slide"
    }
   },
   "outputs": [],
   "source": [
    "import numpy as np\n",
    "import mylapack\n",
    "a = np.array([[7,8],[3,4],[1,2]])\n",
    "b = np.array([[1,2,3],[4,5,6]])\n",
    "print(\"a=\",a) \n",
    "print(\"b=\",b)\n",
    "assert a.shape[1] == b.shape[0]\n",
    "c = np.zeros((a.shape[0],b.shape[1]),'d',order='F')\n",
    "mylapack.dgemm('N','N',a.shape[0],b.shape[1],a.shape[1],1.0,a,b,1.0,c)\n",
    "print(c)\n",
    "np.all(c == a @ b) # check with numpy matrix multiplication "
   ]
  },
  {
   "cell_type": "markdown",
   "metadata": {
    "slideshow": {
     "slide_type": "slide"
    }
   },
   "source": [
    "### Exercise \n",
    "- Modify the file dgemm.pyf to set all arguments top optional and keep only the two matrices as input."
   ]
  },
  {
   "cell_type": "markdown",
   "metadata": {
    "slideshow": {
     "slide_type": "slide"
    }
   },
   "source": [
    "<button data-toggle=\"collapse\" data-target=\"#dgemm\" class='btn btn-primary'>Solution</button>\n",
    "<div id=\"dgemm\" class=\"collapse\">\n",
    "```fortran\n",
    "python module mylapack2 ! in \n",
    "    interface  ! in :mylapack\n",
    "        subroutine dgemm(transa,transb,m,n,k,alpha,a,lda,b,ldb,beta,c,ldc)\n",
    "            character, optional :: transa = 'N'\n",
    "            character, optional :: transb = 'N'\n",
    "            integer, optional :: m = shape(a,0)\n",
    "            integer, optional :: n = shape(b,1)\n",
    "            integer, optional, check(shape(b,0)==k) :: k = shape(a,1)\n",
    "            double precision, optional :: alpha = 1.\n",
    "            double precision dimension(lda,*) :: a\n",
    "            integer optional,check(shape(a,0)==lda),depend(a) :: lda=shape(a,0)\n",
    "            double precision dimension(ldb,*) :: b\n",
    "            integer optional,check(shape(b,0)==ldb),depend(b) :: ldb=shape(b,0)\n",
    "            double precision, optional :: beta = 1.\n",
    "            double precision dimension(shape(a,0),shape(b,1)), intent(out) :: c\n",
    "            integer optional :: ldc=shape(a,0)\n",
    "        end subroutine dgemm\n",
    "    end interface \n",
    "end python module mylapack2\n",
    "```"
   ]
  },
  {
   "cell_type": "markdown",
   "metadata": {
    "slideshow": {
     "slide_type": "slide"
    }
   },
   "source": [
    "# Création du module python"
   ]
  },
  {
   "cell_type": "code",
   "execution_count": null,
   "metadata": {
    "slideshow": {
     "slide_type": "fragment"
    }
   },
   "outputs": [],
   "source": [
    "#!f2py -c dgemm2.pyf -llapack --f90flags=-O3"
   ]
  },
  {
   "cell_type": "code",
   "execution_count": null,
   "metadata": {
    "slideshow": {
     "slide_type": "slide"
    }
   },
   "outputs": [],
   "source": [
    "import mylapack2\n",
    "a = np.array([[7,8],[3,4],[1,2]])\n",
    "b = np.array([[1,2,3],[4,5,6]])\n",
    "c = mylapack2.dgemm(a,b)\n",
    "np.all( c == a @ b)"
   ]
  },
  {
   "cell_type": "markdown",
   "metadata": {
    "slideshow": {
     "slide_type": "slide"
    }
   },
   "source": [
    "## Check performance between numpy and mylapack"
   ]
  },
  {
   "cell_type": "code",
   "execution_count": null,
   "metadata": {
    "slideshow": {
     "slide_type": "fragment"
    }
   },
   "outputs": [],
   "source": [
    "a = np.random.random((512,128))\n",
    "b = np.random.random((128,512))"
   ]
  },
  {
   "cell_type": "code",
   "execution_count": null,
   "metadata": {
    "slideshow": {
     "slide_type": "fragment"
    }
   },
   "outputs": [],
   "source": [
    "%timeit c = mylapack2.dgemm(a,b)"
   ]
  },
  {
   "cell_type": "code",
   "execution_count": null,
   "metadata": {
    "slideshow": {
     "slide_type": "fragment"
    }
   },
   "outputs": [],
   "source": [
    "%timeit c = a @ b"
   ]
  },
  {
   "cell_type": "markdown",
   "metadata": {
    "slideshow": {
     "slide_type": "slide"
    }
   },
   "source": [
    "**Fortran arrays allocated in a subroutine share same memory in Python**"
   ]
  },
  {
   "cell_type": "code",
   "execution_count": null,
   "metadata": {
    "slideshow": {
     "slide_type": "fragment"
    }
   },
   "outputs": [],
   "source": [
    "%%fortran\n",
    "module f90module\n",
    "   implicit none\n",
    "   real(8), dimension(:),   allocatable :: farray\n",
    "contains\n",
    "   subroutine init( n ) !Allocation du tableau farray\n",
    "   integer, intent(in) :: n\n",
    "   allocate(farray(n))\n",
    "   end subroutine init\n",
    "end module f90module"
   ]
  },
  {
   "cell_type": "code",
   "execution_count": null,
   "metadata": {
    "slideshow": {
     "slide_type": "fragment"
    }
   },
   "outputs": [],
   "source": [
    "f90module.init(10)\n",
    "len(f90module.farray)"
   ]
  },
  {
   "cell_type": "markdown",
   "metadata": {
    "slideshow": {
     "slide_type": "slide"
    }
   },
   "source": [
    "**Numpy arrays allocated in Python passed to Fortran are already allocated**"
   ]
  },
  {
   "cell_type": "code",
   "execution_count": null,
   "metadata": {
    "slideshow": {
     "slide_type": "fragment"
    }
   },
   "outputs": [],
   "source": [
    "%%fortran\n",
    "module f90module\n",
    "   implicit none\n",
    "   real(8), dimension(:),   allocatable :: farray\n",
    "contains\n",
    "   subroutine test_array( allocated_flag, array_size )\n",
    "   logical, intent(out) :: allocated_flag\n",
    "   integer, intent(out) :: array_size\n",
    "   allocated_flag = allocated(farray)\n",
    "   array_size = size(farray)\n",
    "   end subroutine test_array\n",
    "end module f90module"
   ]
  },
  {
   "cell_type": "code",
   "execution_count": null,
   "metadata": {
    "slideshow": {
     "slide_type": "fragment"
    }
   },
   "outputs": [],
   "source": [
    "f90module.farray = np.random.rand(10).astype(np.float64)\n",
    "f90module.test_array()"
   ]
  },
  {
   "cell_type": "markdown",
   "metadata": {
    "slideshow": {
     "slide_type": "slide"
    }
   },
   "source": [
    "# f2py + OpenMP\n",
    "\n"
   ]
  },
  {
   "cell_type": "code",
   "execution_count": 50,
   "metadata": {
    "slideshow": {
     "slide_type": "fragment"
    }
   },
   "outputs": [],
   "source": [
    "import os, sys\n",
    "\n",
    "if sys.platform == 'darwin': # for mac users\n",
    "    os.environ['CC'] = 'gcc-7' "
   ]
  },
  {
   "cell_type": "code",
   "execution_count": 53,
   "metadata": {
    "slideshow": {
     "slide_type": "fragment"
    }
   },
   "outputs": [],
   "source": [
    "%%fortran \n",
    "subroutine hello( )\n",
    "  integer :: i\n",
    "  do i = 1, 4\n",
    "    call sleep(1)\n",
    "  end do\n",
    "end subroutine"
   ]
  },
  {
   "cell_type": "code",
   "execution_count": 54,
   "metadata": {
    "slideshow": {
     "slide_type": "fragment"
    }
   },
   "outputs": [
    {
     "name": "stdout",
     "output_type": "stream",
     "text": [
      "CPU times: user 9.26 ms, sys: 33.5 ms, total: 42.8 ms\n",
      "Wall time: 4.01 s\n"
     ]
    }
   ],
   "source": [
    "%%time\n",
    "hello()"
   ]
  },
  {
   "cell_type": "code",
   "execution_count": 55,
   "metadata": {
    "slideshow": {
     "slide_type": "slide"
    }
   },
   "outputs": [],
   "source": [
    "%%fortran --f90flags \"-fopenmp\" --extra \"-L/usr/local/lib -lgomp\"\n",
    "subroutine hello_omp( )\n",
    "\n",
    "  integer :: i\n",
    "  !$OMP PARALLEL PRIVATE(I)\n",
    "  !$OMP DO \n",
    "  do i = 1, 4\n",
    "    call sleep(1)\n",
    "  end do\n",
    "  !$OMP END DO\n",
    "  !$OMP END PARALLEL\n",
    "\n",
    "end subroutine\n"
   ]
  },
  {
   "cell_type": "code",
   "execution_count": 56,
   "metadata": {
    "slideshow": {
     "slide_type": "fragment"
    }
   },
   "outputs": [
    {
     "name": "stdout",
     "output_type": "stream",
     "text": [
      "CPU times: user 2.03 ms, sys: 6.31 ms, total: 8.34 ms\n",
      "Wall time: 1.01 s\n"
     ]
    }
   ],
   "source": [
    "%%time\n",
    "hello_omp()"
   ]
  },
  {
   "cell_type": "markdown",
   "metadata": {
    "slideshow": {
     "slide_type": "slide"
    }
   },
   "source": [
    "# Conclusions\n",
    "\n",
    "- Easy to use, it works with modern fortran, legacy fortran and also C.\n",
    "- Works with common and modules and arrays dynamically allocated.\n",
    "- Python function callback can be very useful combined with Sympy\n",
    "- Documentation is  automatically generated\n",
    "- All fortran compilers are supported: GNU, Portland, Sun, Intel,...\n",
    "- F2py is integrated in numpy library.\n",
    "\n",
    "## cons \n",
    "- Derived types and fortran pointers are not well supported.\n",
    "- Absolutely not compatible with fortran 2003-2008 new features (classes)\n",
    "- f2py is maintained but not really improved. Development is stopped."
   ]
  },
  {
   "cell_type": "markdown",
   "metadata": {
    "slideshow": {
     "slide_type": "slide"
    }
   },
   "source": [
    "# distutils\n",
    "\n",
    "## setup.py\n",
    "```python\n",
    "from numpy.distutils.core import Extension, setup\n",
    "ext1 = Extension(name = 'scalar',\n",
    "                 sources = ['scalar.f'])\n",
    "ext2 = Extension(name = 'fib2',\n",
    "                 sources = ['fib2.pyf','fib1.f'])\n",
    "\n",
    "setup(name = 'f2py_example', ext_modules = [ext1,ext2])\n",
    "```\n",
    "Compilation\n",
    "```bash\n",
    "python3 setup.py build_ext --inplace\n",
    "```"
   ]
  },
  {
   "cell_type": "markdown",
   "metadata": {
    "slideshow": {
     "slide_type": "slide"
    }
   },
   "source": [
    "# Ressources\n",
    "- [Transparents E. Sonnendrücker](http://calcul.math.cnrs.fr/Documents/Journees/dec2006/python-fortran.pdf)\n",
    "- [SciPy](http://www.scipy.org/F2py)\n",
    "- [Documentation Sagemath](http://www.sagemath.org/doc/numerical_sage/f2py.html) \n",
    "- Hans Petter Langtangen.*Python Scripting for Computational Science*. Springer 2004\n"
   ]
  }
 ],
 "metadata": {
  "kernelspec": {
   "display_name": "Python 3",
   "language": "python",
   "name": "python3"
  },
  "language_info": {
   "codemirror_mode": {
    "name": "ipython",
    "version": 3
   },
   "file_extension": ".py",
   "mimetype": "text/x-python",
   "name": "python",
   "nbconvert_exporter": "python",
   "pygments_lexer": "ipython3",
   "version": "3.6.3"
  }
 },
 "nbformat": 4,
 "nbformat_minor": 2
}
